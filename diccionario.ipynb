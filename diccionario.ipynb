{
 "cells": [
  {
   "cell_type": "code",
   "execution_count": 6,
   "id": "7e05d963",
   "metadata": {},
   "outputs": [],
   "source": [
    "import netCDF4 as nc\n",
    "import pandas as pd"
   ]
  },
  {
   "cell_type": "code",
   "execution_count": 14,
   "id": "c27844f2",
   "metadata": {},
   "outputs": [],
   "source": [
    "#Abrimos el archivo netcdf para lectura \n",
    "fn_x = \"/LUSTRE/home/mcd-01/wrfinput_d01\"\n",
    "dfx = nc.Dataset(fn_x, 'r')"
   ]
  },
  {
   "cell_type": "code",
   "execution_count": 15,
   "id": "dbcbe210",
   "metadata": {},
   "outputs": [],
   "source": [
    "#Crear diccionario de datos con el nombre de las variables y su descripcion\n",
    "pdf = pd.DataFrame(columns=[\"nombre\", \"descripción\"])\n",
    "\n",
    "idx = 0\n",
    "for vname in dfx.variables:\n",
    "    if \"description\" in dfx.variables[vname].ncattrs():\n",
    "        pdf.loc[idx] = [vname, dfx.variables[vname].description]\n",
    "    idx += 1"
   ]
  },
  {
   "cell_type": "code",
   "execution_count": 16,
   "id": "8cd64a48",
   "metadata": {},
   "outputs": [],
   "source": [
    "#Guardamos el diccionario en formato csv\n",
    "pdf.to_csv(\"/LUSTRE/home/mcd-01/diccionario.csv\", index=False)"
   ]
  },
  {
   "cell_type": "code",
   "execution_count": 17,
   "id": "59c5bcb9",
   "metadata": {},
   "outputs": [],
   "source": [
    "#Por ultimo cerramos el archivo\n",
    "dfx.close()"
   ]
  }
 ],
 "metadata": {
  "kernelspec": {
   "display_name": "Estadistica",
   "language": "python",
   "name": "estadistica"
  },
  "language_info": {
   "codemirror_mode": {
    "name": "ipython",
    "version": 3
   },
   "file_extension": ".py",
   "mimetype": "text/x-python",
   "name": "python",
   "nbconvert_exporter": "python",
   "pygments_lexer": "ipython3",
   "version": "3.8.5"
  }
 },
 "nbformat": 4,
 "nbformat_minor": 5
}
